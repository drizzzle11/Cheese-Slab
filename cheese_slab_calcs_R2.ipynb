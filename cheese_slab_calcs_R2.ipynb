{
 "cells": [
  {
   "cell_type": "markdown",
   "metadata": {},
   "source": [
    "#### Step 1: Load Cases are combined and saved as Parquet file (all_cs_loadcases.parquet). Convert it into a dataframe."
   ]
  },
  {
   "cell_type": "code",
   "execution_count": 4,
   "metadata": {},
   "outputs": [],
   "source": [
    "# Import relevant libraries\n",
    "import pandas as pd\n",
    "import os\n",
    "from concurrent.futures import ThreadPoolExecutor, as_completed\n",
    "from functools import reduce"
   ]
  },
  {
   "cell_type": "code",
   "execution_count": 5,
   "metadata": {},
   "outputs": [],
   "source": [
    "# Location of all_cs_loadcases\n",
    "all_cs_loadcases = 'C:\\\\Users\\\\rimjhims\\\\Walter P. Moore and Associates\\\\S17-24001-00 DB Texas Instruments LFAB2 - CheeseSlab\\\\Cheese Slab Export\\\\all_cs_loadcases.parquet'\n",
    "\n",
    "# Convert the combined Load Case parquet file to a dataframe\n",
    "all_cs_loadcases = pd.read_parquet(all_cs_loadcases)"
   ]
  },
  {
   "cell_type": "code",
   "execution_count": 6,
   "metadata": {},
   "outputs": [],
   "source": [
    "# Reduce demicals point to a hundredth place\n",
    "cols_to_reduce = ['P', 'V2', 'V3', 'T', 'M2','M3']\n",
    "\n",
    "all_cs_loadcases[cols_to_reduce] = all_cs_loadcases[cols_to_reduce].round(2)"
   ]
  },
  {
   "cell_type": "markdown",
   "metadata": {},
   "source": [
    "#### Step 2: Break the DataFrame. Each smaller df contains different force types."
   ]
  },
  {
   "cell_type": "code",
   "execution_count": 7,
   "metadata": {},
   "outputs": [
    {
     "data": {
      "text/plain": [
       "Index(['Elm', 'ElmSta', 'LoadCase', 'StepNum', 'P', 'V2', 'V3', 'T', 'M2',\n",
       "       'M3'],\n",
       "      dtype='object')"
      ]
     },
     "execution_count": 7,
     "metadata": {},
     "output_type": "execute_result"
    }
   ],
   "source": [
    "all_cs_loadcases.columns"
   ]
  },
  {
   "cell_type": "code",
   "execution_count": 8,
   "metadata": {},
   "outputs": [
    {
     "data": {
      "text/html": [
       "<div>\n",
       "<style scoped>\n",
       "    .dataframe tbody tr th:only-of-type {\n",
       "        vertical-align: middle;\n",
       "    }\n",
       "\n",
       "    .dataframe tbody tr th {\n",
       "        vertical-align: top;\n",
       "    }\n",
       "\n",
       "    .dataframe thead th {\n",
       "        text-align: right;\n",
       "    }\n",
       "</style>\n",
       "<table border=\"1\" class=\"dataframe\">\n",
       "  <thead>\n",
       "    <tr style=\"text-align: right;\">\n",
       "      <th></th>\n",
       "      <th>Elm</th>\n",
       "      <th>ElmSta</th>\n",
       "      <th>LoadCase</th>\n",
       "      <th>StepNum</th>\n",
       "      <th>P</th>\n",
       "      <th>V2</th>\n",
       "      <th>V3</th>\n",
       "      <th>T</th>\n",
       "      <th>M2</th>\n",
       "      <th>M3</th>\n",
       "    </tr>\n",
       "  </thead>\n",
       "  <tbody>\n",
       "    <tr>\n",
       "      <th>0</th>\n",
       "      <td>14253</td>\n",
       "      <td>0.0</td>\n",
       "      <td>Egrav6_0.2SUB</td>\n",
       "      <td>None</td>\n",
       "      <td>3.51</td>\n",
       "      <td>-30.47</td>\n",
       "      <td>-0.72</td>\n",
       "      <td>0.00</td>\n",
       "      <td>0.00</td>\n",
       "      <td>0.00</td>\n",
       "    </tr>\n",
       "    <tr>\n",
       "      <th>1</th>\n",
       "      <td>14253</td>\n",
       "      <td>1.5</td>\n",
       "      <td>Egrav6_0.2SUB</td>\n",
       "      <td>None</td>\n",
       "      <td>3.51</td>\n",
       "      <td>-28.17</td>\n",
       "      <td>-0.72</td>\n",
       "      <td>0.00</td>\n",
       "      <td>1.08</td>\n",
       "      <td>44.48</td>\n",
       "    </tr>\n",
       "    <tr>\n",
       "      <th>2</th>\n",
       "      <td>14253</td>\n",
       "      <td>3.0</td>\n",
       "      <td>Egrav6_0.2SUB</td>\n",
       "      <td>None</td>\n",
       "      <td>3.51</td>\n",
       "      <td>-25.88</td>\n",
       "      <td>-0.72</td>\n",
       "      <td>0.00</td>\n",
       "      <td>2.17</td>\n",
       "      <td>84.47</td>\n",
       "    </tr>\n",
       "    <tr>\n",
       "      <th>3</th>\n",
       "      <td>14254</td>\n",
       "      <td>0.0</td>\n",
       "      <td>Egrav6_0.2SUB</td>\n",
       "      <td>None</td>\n",
       "      <td>1.90</td>\n",
       "      <td>-3.90</td>\n",
       "      <td>-1.94</td>\n",
       "      <td>0.03</td>\n",
       "      <td>-1.84</td>\n",
       "      <td>84.31</td>\n",
       "    </tr>\n",
       "    <tr>\n",
       "      <th>4</th>\n",
       "      <td>14254</td>\n",
       "      <td>2.0</td>\n",
       "      <td>Egrav6_0.2SUB</td>\n",
       "      <td>None</td>\n",
       "      <td>1.90</td>\n",
       "      <td>-1.74</td>\n",
       "      <td>-1.94</td>\n",
       "      <td>0.03</td>\n",
       "      <td>2.04</td>\n",
       "      <td>89.94</td>\n",
       "    </tr>\n",
       "  </tbody>\n",
       "</table>\n",
       "</div>"
      ],
      "text/plain": [
       "     Elm  ElmSta       LoadCase StepNum     P     V2    V3     T    M2     M3\n",
       "0  14253     0.0  Egrav6_0.2SUB    None  3.51 -30.47 -0.72  0.00  0.00   0.00\n",
       "1  14253     1.5  Egrav6_0.2SUB    None  3.51 -28.17 -0.72  0.00  1.08  44.48\n",
       "2  14253     3.0  Egrav6_0.2SUB    None  3.51 -25.88 -0.72  0.00  2.17  84.47\n",
       "3  14254     0.0  Egrav6_0.2SUB    None  1.90  -3.90 -1.94  0.03 -1.84  84.31\n",
       "4  14254     2.0  Egrav6_0.2SUB    None  1.90  -1.74 -1.94  0.03  2.04  89.94"
      ]
     },
     "execution_count": 8,
     "metadata": {},
     "output_type": "execute_result"
    }
   ],
   "source": [
    "all_cs_loadcases.head()"
   ]
  },
  {
   "cell_type": "code",
   "execution_count": 9,
   "metadata": {},
   "outputs": [],
   "source": [
    "# List of forces\n",
    "forces = ['P', 'V2', 'V3', 'T', 'M2', 'M3']\n",
    "\n",
    "# Dictionary to store the separate DataFrames\n",
    "force_dataframes = {force: all_cs_loadcases[['Elm', 'LoadCase', force]] for force in forces}\n",
    "\n",
    "# Access individual DataFrames\n",
    "all_loadcases_P = force_dataframes['P']\n",
    "all_loadcases_V2 = force_dataframes['V2']\n",
    "all_loadcases_V3 = force_dataframes['V3']\n",
    "all_loadcases_T = force_dataframes['T']\n",
    "all_loadcases_M2 = force_dataframes['M2']\n",
    "all_loadcases_M3 = force_dataframes['M3']\n"
   ]
  },
  {
   "cell_type": "markdown",
   "metadata": {},
   "source": [
    "#### Step 3: Extract min and max force values.\n",
    "\n",
    "Note: Keeping extraction for each force separate to check errors easily."
   ]
  },
  {
   "cell_type": "code",
   "execution_count": 10,
   "metadata": {},
   "outputs": [],
   "source": [
    "# Extracting max P values\n",
    "P_max = all_loadcases_P.groupby(['Elm', 'LoadCase'])['P'].max().reset_index()\n",
    "P_max.rename(columns={'P': 'max_P'}, inplace=True)\n",
    "\n",
    "# Extracting min P values\n",
    "P_min = all_loadcases_P.groupby(['Elm', 'LoadCase'])['P'].min().reset_index()\n",
    "P_min.rename(columns={'P': 'min_P'}, inplace=True)"
   ]
  },
  {
   "cell_type": "code",
   "execution_count": 11,
   "metadata": {},
   "outputs": [],
   "source": [
    "# Extracting max v2 values\n",
    "V2_max = all_loadcases_V2.groupby(['Elm', 'LoadCase'])['V2'].max().reset_index()\n",
    "V2_max.rename(columns={'V2': 'max_V2'}, inplace=True)\n",
    "\n",
    "# Extracting min v2 values\n",
    "V2_min = all_loadcases_V2.groupby(['Elm', 'LoadCase'])['V2'].min().reset_index()\n",
    "V2_min.rename(columns={'V2': 'min_V2'}, inplace=True)"
   ]
  },
  {
   "cell_type": "code",
   "execution_count": 12,
   "metadata": {},
   "outputs": [],
   "source": [
    "# Extracting max v3 values\n",
    "V3_max = all_loadcases_V3.groupby(['Elm', 'LoadCase'])['V3'].max().reset_index()\n",
    "V3_max.rename(columns={'V3': 'max_V3'}, inplace=True)\n",
    "\n",
    "# Extracting min v3 values\n",
    "V3_min = all_loadcases_V3.groupby(['Elm', 'LoadCase'])['V3'].min().reset_index()\n",
    "V3_min.rename(columns={'V3': 'min_V3'}, inplace=True)"
   ]
  },
  {
   "cell_type": "code",
   "execution_count": 13,
   "metadata": {},
   "outputs": [],
   "source": [
    "# Extracting max T values\n",
    "T_max = all_loadcases_T.groupby(['Elm', 'LoadCase'])['T'].max().reset_index()\n",
    "T_max.rename(columns={'T': 'max_T'}, inplace=True)\n",
    "\n",
    "# Extracting min T values\n",
    "T_min = all_loadcases_T.groupby(['Elm', 'LoadCase'])['T'].min().reset_index()\n",
    "T_min.rename(columns={'T': 'min_T'}, inplace=True)"
   ]
  },
  {
   "cell_type": "code",
   "execution_count": 14,
   "metadata": {},
   "outputs": [],
   "source": [
    "# Extracting max M2 values\n",
    "M2_max = all_loadcases_M2.groupby(['Elm', 'LoadCase'])['M2'].max().reset_index()\n",
    "M2_max.rename(columns={'M2': 'max_M2'}, inplace=True)\n",
    "\n",
    "# Extracting min M2 values\n",
    "M2_min = all_loadcases_M2.groupby(['Elm', 'LoadCase'])['M2'].min().reset_index()\n",
    "M2_min.rename(columns={'M2': 'min_M2'}, inplace=True)"
   ]
  },
  {
   "cell_type": "code",
   "execution_count": 15,
   "metadata": {},
   "outputs": [],
   "source": [
    "# Extracting max M3 values\n",
    "M3_max = all_loadcases_M3.groupby(['Elm', 'LoadCase'])['M3'].max().reset_index()\n",
    "M3_max.rename(columns={'M3': 'max_M3'}, inplace=True)\n",
    "\n",
    "# Extracting min M3 values\n",
    "M3_min = all_loadcases_M3.groupby(['Elm', 'LoadCase'])['M3'].min().reset_index()\n",
    "M3_min.rename(columns={'M3': 'min_M3'}, inplace=True)"
   ]
  },
  {
   "cell_type": "code",
   "execution_count": 16,
   "metadata": {},
   "outputs": [],
   "source": [
    "# List of DataFrames\n",
    "forces_dfs = [P_max, P_min, V2_max, V2_min, V3_max, V3_min, T_max, T_min, M2_max, M2_min, M3_max, M3_min]\n",
    "\n",
    "# Use reduce to merge all DataFrames\n",
    "analysed_df = reduce(lambda left, right: pd.merge(left, right, on=['Elm', 'LoadCase'], how='inner'), forces_dfs)"
   ]
  },
  {
   "cell_type": "markdown",
   "metadata": {},
   "source": [
    "#### Step 4: Add location to each of these points"
   ]
  },
  {
   "cell_type": "code",
   "execution_count": 17,
   "metadata": {},
   "outputs": [],
   "source": [
    "# Convert Frame combined file to DataFrame\n",
    "\n",
    "all_frame_path = 'C:\\\\Users\\\\rimjhims\\\\Walter P. Moore and Associates\\\\S17-24001-00 DB Texas Instruments LFAB2 - CheeseSlab\\\\Cheese Slab Export\\\\Location\\\\FRAME - Combined.xlsx'\n",
    "required_cols = ['Frame', 'CentroidX', 'CentroidY']\n",
    "\n",
    "frames = pd.read_excel(all_frame_path, usecols = required_cols)\n",
    "frames = frames.rename(columns = {'Frame' : 'Elm'})"
   ]
  },
  {
   "cell_type": "code",
   "execution_count": 18,
   "metadata": {},
   "outputs": [],
   "source": [
    "# Merging frames and result_df\n",
    "all_elements_df = pd.merge(analysed_df, frames, on = 'Elm', how = 'left')"
   ]
  },
  {
   "cell_type": "code",
   "execution_count": 19,
   "metadata": {},
   "outputs": [
    {
     "data": {
      "text/plain": [
       "(9295000, 16)"
      ]
     },
     "execution_count": 19,
     "metadata": {},
     "output_type": "execute_result"
    }
   ],
   "source": [
    "all_elements_df.shape"
   ]
  },
  {
   "cell_type": "code",
   "execution_count": 20,
   "metadata": {},
   "outputs": [
    {
     "data": {
      "text/html": [
       "<div>\n",
       "<style scoped>\n",
       "    .dataframe tbody tr th:only-of-type {\n",
       "        vertical-align: middle;\n",
       "    }\n",
       "\n",
       "    .dataframe tbody tr th {\n",
       "        vertical-align: top;\n",
       "    }\n",
       "\n",
       "    .dataframe thead th {\n",
       "        text-align: right;\n",
       "    }\n",
       "</style>\n",
       "<table border=\"1\" class=\"dataframe\">\n",
       "  <thead>\n",
       "    <tr style=\"text-align: right;\">\n",
       "      <th></th>\n",
       "      <th>Elm</th>\n",
       "      <th>LoadCase</th>\n",
       "      <th>max_P</th>\n",
       "      <th>min_P</th>\n",
       "      <th>max_V2</th>\n",
       "      <th>min_V2</th>\n",
       "      <th>max_V3</th>\n",
       "      <th>min_V3</th>\n",
       "      <th>max_T</th>\n",
       "      <th>min_T</th>\n",
       "      <th>max_M2</th>\n",
       "      <th>min_M2</th>\n",
       "      <th>max_M3</th>\n",
       "      <th>min_M3</th>\n",
       "      <th>CentroidX</th>\n",
       "      <th>CentroidY</th>\n",
       "    </tr>\n",
       "  </thead>\n",
       "  <tbody>\n",
       "    <tr>\n",
       "      <th>0</th>\n",
       "      <td>628</td>\n",
       "      <td>Egrav6_0.2SUB</td>\n",
       "      <td>2.58</td>\n",
       "      <td>2.58</td>\n",
       "      <td>-31.97</td>\n",
       "      <td>-36.54</td>\n",
       "      <td>-0.72</td>\n",
       "      <td>-0.72</td>\n",
       "      <td>0.0</td>\n",
       "      <td>0.0</td>\n",
       "      <td>2.15</td>\n",
       "      <td>0.0</td>\n",
       "      <td>102.72</td>\n",
       "      <td>0.0</td>\n",
       "      <td>81.5</td>\n",
       "      <td>159.0</td>\n",
       "    </tr>\n",
       "    <tr>\n",
       "      <th>1</th>\n",
       "      <td>628</td>\n",
       "      <td>Egrav7</td>\n",
       "      <td>1.10</td>\n",
       "      <td>1.10</td>\n",
       "      <td>-8.96</td>\n",
       "      <td>-10.24</td>\n",
       "      <td>-0.28</td>\n",
       "      <td>-0.28</td>\n",
       "      <td>0.0</td>\n",
       "      <td>0.0</td>\n",
       "      <td>0.85</td>\n",
       "      <td>0.0</td>\n",
       "      <td>28.79</td>\n",
       "      <td>0.0</td>\n",
       "      <td>81.5</td>\n",
       "      <td>159.0</td>\n",
       "    </tr>\n",
       "    <tr>\n",
       "      <th>2</th>\n",
       "      <td>628</td>\n",
       "      <td>FpF.OU8R6_0.2SUB_fEE+0.75X+2.5Y</td>\n",
       "      <td>62.31</td>\n",
       "      <td>62.31</td>\n",
       "      <td>-11.64</td>\n",
       "      <td>-16.26</td>\n",
       "      <td>-15.60</td>\n",
       "      <td>-15.60</td>\n",
       "      <td>0.0</td>\n",
       "      <td>0.0</td>\n",
       "      <td>46.79</td>\n",
       "      <td>0.0</td>\n",
       "      <td>41.81</td>\n",
       "      <td>0.0</td>\n",
       "      <td>81.5</td>\n",
       "      <td>159.0</td>\n",
       "    </tr>\n",
       "    <tr>\n",
       "      <th>3</th>\n",
       "      <td>628</td>\n",
       "      <td>FpF.OU8R6_0.2SUB_fEE+0.75X+2.5Yn</td>\n",
       "      <td>48.76</td>\n",
       "      <td>48.76</td>\n",
       "      <td>-6.86</td>\n",
       "      <td>-11.48</td>\n",
       "      <td>-14.87</td>\n",
       "      <td>-14.87</td>\n",
       "      <td>0.0</td>\n",
       "      <td>0.0</td>\n",
       "      <td>44.60</td>\n",
       "      <td>0.0</td>\n",
       "      <td>27.48</td>\n",
       "      <td>0.0</td>\n",
       "      <td>81.5</td>\n",
       "      <td>159.0</td>\n",
       "    </tr>\n",
       "    <tr>\n",
       "      <th>4</th>\n",
       "      <td>628</td>\n",
       "      <td>FpF.OU8R6_0.2SUB_fEE+0.75X+2.5Yp</td>\n",
       "      <td>75.87</td>\n",
       "      <td>75.87</td>\n",
       "      <td>-16.41</td>\n",
       "      <td>-21.04</td>\n",
       "      <td>-16.33</td>\n",
       "      <td>-16.33</td>\n",
       "      <td>0.0</td>\n",
       "      <td>0.0</td>\n",
       "      <td>48.98</td>\n",
       "      <td>0.0</td>\n",
       "      <td>56.14</td>\n",
       "      <td>0.0</td>\n",
       "      <td>81.5</td>\n",
       "      <td>159.0</td>\n",
       "    </tr>\n",
       "  </tbody>\n",
       "</table>\n",
       "</div>"
      ],
      "text/plain": [
       "   Elm                          LoadCase  max_P  min_P  max_V2  min_V2  \\\n",
       "0  628                     Egrav6_0.2SUB   2.58   2.58  -31.97  -36.54   \n",
       "1  628                            Egrav7   1.10   1.10   -8.96  -10.24   \n",
       "2  628   FpF.OU8R6_0.2SUB_fEE+0.75X+2.5Y  62.31  62.31  -11.64  -16.26   \n",
       "3  628  FpF.OU8R6_0.2SUB_fEE+0.75X+2.5Yn  48.76  48.76   -6.86  -11.48   \n",
       "4  628  FpF.OU8R6_0.2SUB_fEE+0.75X+2.5Yp  75.87  75.87  -16.41  -21.04   \n",
       "\n",
       "   max_V3  min_V3  max_T  min_T  max_M2  min_M2  max_M3  min_M3  CentroidX  \\\n",
       "0   -0.72   -0.72    0.0    0.0    2.15     0.0  102.72     0.0       81.5   \n",
       "1   -0.28   -0.28    0.0    0.0    0.85     0.0   28.79     0.0       81.5   \n",
       "2  -15.60  -15.60    0.0    0.0   46.79     0.0   41.81     0.0       81.5   \n",
       "3  -14.87  -14.87    0.0    0.0   44.60     0.0   27.48     0.0       81.5   \n",
       "4  -16.33  -16.33    0.0    0.0   48.98     0.0   56.14     0.0       81.5   \n",
       "\n",
       "   CentroidY  \n",
       "0      159.0  \n",
       "1      159.0  \n",
       "2      159.0  \n",
       "3      159.0  \n",
       "4      159.0  "
      ]
     },
     "execution_count": 20,
     "metadata": {},
     "output_type": "execute_result"
    }
   ],
   "source": [
    "all_elements_df.head()"
   ]
  },
  {
   "cell_type": "code",
   "execution_count": 21,
   "metadata": {},
   "outputs": [],
   "source": [
    "# Convert to Parquet (data format)\n",
    "all_elements_df.to_parquet('C:\\\\Users\\\\rimjhims\\\\Walter P. Moore and Associates\\\\S17-24001-00 DB Texas Instruments LFAB2 - CheeseSlab\\\\Cheese Slab Export\\\\all_elements_analyzed.parquet', engine = 'pyarrow', index = False)"
   ]
  }
 ],
 "metadata": {
  "kernelspec": {
   "display_name": "cheese_slab",
   "language": "python",
   "name": "python3"
  },
  "language_info": {
   "codemirror_mode": {
    "name": "ipython",
    "version": 3
   },
   "file_extension": ".py",
   "mimetype": "text/x-python",
   "name": "python",
   "nbconvert_exporter": "python",
   "pygments_lexer": "ipython3",
   "version": "3.12.4"
  }
 },
 "nbformat": 4,
 "nbformat_minor": 2
}
