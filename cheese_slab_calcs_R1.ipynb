{
 "cells": [
  {
   "cell_type": "markdown",
   "metadata": {},
   "source": [
    "#### Step 1: Load Cases are combined and saved as Parquet file (all_cs_loadcases.parquet). Convert it into a dataframe."
   ]
  },
  {
   "cell_type": "code",
   "execution_count": 6,
   "metadata": {},
   "outputs": [],
   "source": [
    "# Import relevant libraries\n",
    "import pandas as pd\n",
    "import os\n",
    "from concurrent.futures import ThreadPoolExecutor, as_completed"
   ]
  },
  {
   "cell_type": "code",
   "execution_count": 7,
   "metadata": {},
   "outputs": [],
   "source": [
    "# Location of all_cs_loadcases\n",
    "all_cs_loadcases = 'C:\\\\Users\\\\rimjhims\\\\Walter P. Moore and Associates\\\\S17-24001-00 DB Texas Instruments LFAB2 - CheeseSlab\\\\Cheese Slab Export\\\\all_cs_loadcases.parquet'\n",
    "\n",
    "# Convert the combined Load Case parquet file to a dataframe\n",
    "all_cs_loadcases = pd.read_parquet(all_cs_loadcases)"
   ]
  },
  {
   "cell_type": "code",
   "execution_count": 8,
   "metadata": {},
   "outputs": [],
   "source": [
    "# Reduce demicals point to a hundredth\n",
    "cols_to_reduce = ['P', 'V2', 'V3', 'T', 'M2','M3']\n",
    "\n",
    "# Reduce decimal points to hundredth place\n",
    "all_cs_loadcases[cols_to_reduce] = all_cs_loadcases[cols_to_reduce].round(2)"
   ]
  },
  {
   "cell_type": "markdown",
   "metadata": {},
   "source": [
    "#### Step 2: Extract minimum and maximum force values"
   ]
  },
  {
   "cell_type": "code",
   "execution_count": 9,
   "metadata": {},
   "outputs": [],
   "source": [
    "# Extract unique Element names\n",
    "all_elements = all_cs_loadcases['Elm'].unique()\n",
    "all_elements = all_elements.tolist()\n",
    "\n",
    "# Extract unique Load Cases\n",
    "all_loadcases = all_cs_loadcases['LoadCase'].unique()\n",
    "all_loadcases = all_loadcases.tolist()"
   ]
  },
  {
   "cell_type": "code",
   "execution_count": 10,
   "metadata": {},
   "outputs": [],
   "source": [
    "# Define a function to process a single (element, load_case) pair\n",
    "def process_element_loadcase(element, load_case, all_cs_loadcases):\n",
    "\n",
    "    # Extract element rows\n",
    "    relevant_rows = all_cs_loadcases[(all_cs_loadcases['Elm'] == element) & (all_cs_loadcases['LoadCase'] == load_case)]\n",
    "\n",
    "    # If no rows are found, skip the combination\n",
    "    if relevant_rows.empty:\n",
    "        return None\n",
    "    \n",
    "    # Collect min and max values for each force\n",
    "    result_row = {\n",
    "            'Elm': element,\n",
    "            'LoadCase': load_case,\n",
    "            'min_P': relevant_rows['P'].min(),\n",
    "            'max_P': relevant_rows['P'].max(),\n",
    "            'min_V2': relevant_rows['V2'].min(),\n",
    "            'max_V2': relevant_rows['V2'].max(),\n",
    "            'min_V3': relevant_rows['V3'].min(),\n",
    "            'max_V3': relevant_rows['V3'].max(),\n",
    "            'min_T': relevant_rows['T'].min(),\n",
    "            'max_T': relevant_rows['T'].max(),\n",
    "            'min_M2': relevant_rows['M2'].min(),\n",
    "            'max_M2': relevant_rows['M2'].max(),\n",
    "            'min_M3': relevant_rows['M3'].min(),\n",
    "            'max_M3': relevant_rows['M3'].max(),\n",
    "        }\n",
    "    \n",
    "    return result_row\n",
    "\n",
    "\n",
    "# Main function to execute threading\n",
    "def main(all_elements, all_loadcases, all_cs_loadcases):\n",
    "    result_rows = []\n",
    "\n",
    "    # Use ThreadPoolExecutor to parallelize the loop\n",
    "    with ThreadPoolExecutor() as executor:\n",
    "        futures = []\n",
    "\n",
    "        # Submit tasks for each element-loadcase pair\n",
    "        for element in all_elements:\n",
    "            for load_case in all_loadcases:\n",
    "                futures.append(executor.submit(process_element_loadcase, element, load_case, all_cs_loadcases))\n",
    "        \n",
    "        # Collect results as they complete\n",
    "        for future in as_completed(futures):\n",
    "            result = future.result()\n",
    "            if result:  # Only append non-None results\n",
    "                result_rows.append(result)\n",
    "    \n",
    "    # Create the result DataFrame\n",
    "    result_df = pd.DataFrame(result_rows)\n",
    "    return result_df"
   ]
  },
  {
   "cell_type": "code",
   "execution_count": null,
   "metadata": {},
   "outputs": [],
   "source": [
    "result_df = main(all_elements, all_loadcases, all_cs_loadcases)"
   ]
  }
 ],
 "metadata": {
  "kernelspec": {
   "display_name": "cheese_slab",
   "language": "python",
   "name": "python3"
  },
  "language_info": {
   "codemirror_mode": {
    "name": "ipython",
    "version": 3
   },
   "file_extension": ".py",
   "mimetype": "text/x-python",
   "name": "python",
   "nbconvert_exporter": "python",
   "pygments_lexer": "ipython3",
   "version": "3.12.4"
  }
 },
 "nbformat": 4,
 "nbformat_minor": 2
}
